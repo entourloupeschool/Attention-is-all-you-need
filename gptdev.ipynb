{
 "cells": [
  {
   "cell_type": "code",
   "execution_count": 49,
   "metadata": {},
   "outputs": [
    {
     "name": "stdout",
     "output_type": "stream",
     "text": [
      "['./data/NOAM CHOMSKY - Defining our times existential risks, propaganda, war, hope and the meaning of life [English (auto-generated)] [DownloadYoutubeSubtitles.com].txt', './data/Beyond the darkest hour OTTO SCHARMER [English (auto-generated)] [DownloadYoutubeSubtitles.com].txt', './data/Understanding Linguistics Noam Chomsky Talks at Google [English] [DownloadYoutubeSubtitles.com].txt', './data/Debate Noam Chomsky & Michel Foucault - On human nature [Subtitled] [English] [DownloadYoutubeSubtitles.com].txt', './data/Noam Chomsky Coronavirus — what is at stake DiEM25 TV [English (auto-generated)] [DownloadYoutubeSubtitles.com].txt', './data/Steven Pinker and Rebecca Newberger Goldstein The long reach of reason [English] [DownloadYoutubeSubtitles.com].txt', './data/Is the world getting better or worse A look at the numbers Steven Pinker [English (auto-generated)] [DownloadYoutubeSubtitles.com].txt', './data/RSA ANIMATE The Power of Networks [English (auto-generated)] [DownloadYoutubeSubtitles.com].txt', './data/The Poetry of Science Richard Dawkins and Neil deGrasse Tyson [English (auto-generated)] [DownloadYoutubeSubtitles.com].txt', './data/Turning Points Joseph Stiglitz and Thomas Piketty in Dialogue [English (auto-generated)] [DownloadYoutubeSubtitles.com].txt', './data/Thomas Piketty New thoughts on capital in the twenty-first century [English] [DownloadYoutubeSubtitles.com].txt', './data/Joseph Stiglitz Le capitalisme sans freins ne fonctionne pas [English (auto-generated)] [DownloadYoutubeSubtitles.com].txt', './data/Dialogue with Joseph Stiglitz, recipient of the Nobel Memorial Prize in Economic Sciences [English (auto-generated)] [DownloadYoutubeSubtitles.com].txt', './data/Viendrons-nous un jour à bout des inégalités Avec Thomas Piketty [English] [translated] [DownloadYoutubeSubtitles.com].txt', './data/ReadInstead Lit Fest The Dialogue between Arvind Subramanian and Thomas Piketty [English] [translated] [DownloadYoutubeSubtitles.com].txt', './data/BURSTS The Hidden Pattern Behind Everything We Do Albert László Barabási Talks at Google [English] [DownloadYoutubeSubtitles.com].txt', './data/Yuval Noah Harari 21 Lessons for the 21st Century Talks at Google [English - CC (English)] [DownloadYoutubeSubtitles.com].txt', './data/Capital et idéologie, Thomas Piketty [English] [translated] [DownloadYoutubeSubtitles.com].txt', './data/Conférence Egalité le débat Thomas Piketty Daniel Cohen [English] [translated] [DownloadYoutubeSubtitles.com].txt', './data/Thomas Piketty face à la rédaction de Mediapart [English] [translated] [DownloadYoutubeSubtitles.com].txt', './data/Chomsky & Krauss An Origins Project Dialogue (OFFICIAL) - (Part 2 2) [English (auto-generated)] [DownloadYoutubeSubtitles.com].txt', \"./data/A Dialogue with Noam Chomsky on the occasion of his Rienhard Hesse 'Freedom of Science' Prize. [English (auto-generated)] [DownloadYoutubeSubtitles.com].txt\", './data/Noam Chomsky interview on Language and Knowledge (1977) [English (auto-generated)] [DownloadYoutubeSubtitles.com].txt', './data/The Winding Path of Progress Sam Altman Talks at Google [English - CC (English)] [DownloadYoutubeSubtitles.com].txt', './data/Noam Chomsky Putin, Ukraine, China, and Nuclear War Lex Fridman Podcast #316 [English (United States)] [DownloadYoutubeSubtitles.com].txt', './data/Consciousness in Artificial Intelligence John Searle Talks at Google [English - CC] [DownloadYoutubeSubtitles.com].txt', './data/Machiavelli A Very Short Introduction Quentin Skinner Talks at Google [English - CC (English)] [DownloadYoutubeSubtitles.com].txt', './data/Ludwig Wittgenstein - John Searle & Bryan Magee (1987) [English (auto-generated)] [DownloadYoutubeSubtitles.com].txt', './data/The Concept of Language (Noam Chomsky) [English (auto-generated)] [DownloadYoutubeSubtitles.com].txt', './data/Never Split the Difference Chris Voss Talks at Google [English - CC] [DownloadYoutubeSubtitles.com].txt', './data/Noam Chomsky The Stony Brook Interviews Part One [English (auto-generated)] [DownloadYoutubeSubtitles.com].txt', './data/Violence Slavoj Žižek Talks at Google [English] [DownloadYoutubeSubtitles.com].txt', './data/When to Rob a Bank Steven J. Dubner Talks at Google [English - CC] [DownloadYoutubeSubtitles.com].txt', './data/FULL VIDEO Kevin Kelly Will A.I. Make Us Smarter People I (Mostly) Admire Episode 106 [English (auto-generated)] [DownloadYoutubeSubtitles.com].txt', './data/We have a plan B... Understanding the billionaires mindset DOUGLAS RUSHKOFF [English (auto-generated)] [DownloadYoutubeSubtitles.com].txt', './data/La philo comme grille de lecture du monde ALEXANDRE LACROIX [English] [translated] [DownloadYoutubeSubtitles.com].txt', './data/Master Class Fran Lebowitz with A.M.Homes [English (auto-generated)] [DownloadYoutubeSubtitles.com].txt', './data/Chapter 18 David Sedaris on holding happiness hostage and healing holes in our hearts [English (auto-generated)] [DownloadYoutubeSubtitles.com].txt', \"./data/David Sedaris on 'Let's Explore Diabetes with Owls' with Jonathan Ross [English (auto-generated)] [DownloadYoutubeSubtitles.com].txt\", './data/David Sedaris on Storytelling, Humor & Chatting with Strangers [English - CC1] [DownloadYoutubeSubtitles.com].txt', './data/David Sedaris Answered 175 Fan Letters While Stuck At Home With Covid [English - en] [DownloadYoutubeSubtitles.com].txt', './data/My Life, Influences, and Comedy Eddie Izzard Talks at Google [English (auto-generated)] [DownloadYoutubeSubtitles.com].txt', './data/Eddie Izzard on her life and career in comedy [English (auto-generated)] [DownloadYoutubeSubtitles.com].txt', './data/Political Correctness Debate ft. Stephen Fry, Jordan Peterson, Michael Dyson, Michelle Goldberg [English (auto-generated)] [DownloadYoutubeSubtitles.com].txt', './data/EMERGENCY EPISODE Ex-Google Officer Finally Speaks Out On The Dangers Of AI! - Mo Gawdat E252 [English (auto-generated)] [DownloadYoutubeSubtitles.com].txt', './data/tinyshapespear.txt', './data/HITS David Cross & Amy Sedaris Talks at Google [English] [DownloadYoutubeSubtitles.com].txt', './data/David Sedaris on his trip to the Apple Store [English (auto-generated)] [DownloadYoutubeSubtitles.com].txt', \"./data/David Sedaris, Don Watson and David Rakoff What's Funny About America [English (auto-generated)] [DownloadYoutubeSubtitles.com].txt\"]\n"
     ]
    }
   ],
   "source": [
    "# write function that takes a path of a directory : returns a list of all the paths of the files in that directory\n",
    "import os\n",
    "def getFiles(path):\n",
    "    files = []\n",
    "    for r, d, f in os.walk(path):\n",
    "        for file in f:\n",
    "            files.append(os.path.join(r, file))\n",
    "    return files\n",
    "print(getFiles(\"./data\"))"
   ]
  },
  {
   "cell_type": "code",
   "execution_count": 50,
   "metadata": {},
   "outputs": [],
   "source": [
    "# store them in a list\n",
    "path_txt_files = getFiles(\"./data\")\n",
    "\n",
    "# read the .txt files and save them in one 'text' variable\n",
    "text = ''\n",
    "for path_txt_file in path_txt_files:\n",
    "    with open(path_txt_file, 'r') as f:\n",
    "        text += f.read()\n",
    "        # add a point and space an between each text\n",
    "        text += '. '"
   ]
  },
  {
   "cell_type": "code",
   "execution_count": 51,
   "metadata": {},
   "outputs": [
    {
     "name": "stdout",
     "output_type": "stream",
     "text": [
      "length of dataset in characters:  3346688\n"
     ]
    }
   ],
   "source": [
    "print(\"length of dataset in characters: \", len(text))"
   ]
  },
  {
   "cell_type": "code",
   "execution_count": 52,
   "metadata": {},
   "outputs": [
    {
     "name": "stdout",
     "output_type": "stream",
     "text": [
      "\n",
      " !\"#$%&'(),-./0123456789:;>?ABCDEFGHIJKLMNOPQRSTUVWXYZ[]_abcdefghijklmnopqrstuvwxyz} àçèéêíîïñóôöü​–—’“”…♪\n",
      "107\n"
     ]
    }
   ],
   "source": [
    "# here are all the unique characters that occur in this text\n",
    "chars = sorted(list(set(text)))\n",
    "vocab_size = len(chars)\n",
    "print(''.join(chars))\n",
    "print(vocab_size)"
   ]
  },
  {
   "cell_type": "code",
   "execution_count": 53,
   "metadata": {},
   "outputs": [
    {
     "name": "stdout",
     "output_type": "stream",
     "text": [
      "[65, 66, 66, 1, 77, 65, 62, 75, 62]\n",
      "hii there\n"
     ]
    }
   ],
   "source": [
    "# create a mapping from characters to integers\n",
    "stoi = { ch:i for i,ch in enumerate(chars) }\n",
    "itos = { i:ch for i,ch in enumerate(chars) }\n",
    "encode = lambda s: [stoi[c] for c in s] # encoder: take a string, output a list of integers\n",
    "decode = lambda l: ''.join([itos[i] for i in l]) # decoder: take a list of integers, output a string\n",
    "\n",
    "print(encode(\"hii there\"))\n",
    "print(decode(encode(\"hii there\")))"
   ]
  },
  {
   "cell_type": "code",
   "execution_count": 54,
   "metadata": {},
   "outputs": [
    {
     "name": "stdout",
     "output_type": "stream",
     "text": [
      "torch.Size([3346688]) torch.int64\n",
      "tensor([65, 62, 69, 69, 72,  1, 73, 75, 72, 63, 62, 76, 76, 72, 75,  1, 60, 65,\n",
      "        72, 70, 76, 68, 82,  1, 66, 77,  8, 76,  1, 58,  1, 66, 77,  8, 76,  1,\n",
      "        58,  0,  0, 75, 62, 58, 69, 69, 82,  1, 58,  1, 73, 69, 62, 58, 76, 78,\n",
      "        75, 62,  1, 77, 72,  1, 77, 72,  1, 70, 62, 62, 77,  1, 82, 72, 78,  1,\n",
      "        58, 71, 61,  1, 58, 71,  0,  0, 65, 72, 71, 72, 75,  1, 77, 72,  1, 65,\n",
      "        58, 79, 62,  1, 82, 72, 78,  1, 72, 71,  1, 77, 65, 66, 76,  1, 73, 72,\n",
      "        61, 60, 58, 76, 77,  1, 76, 72,  0,  0, 80, 62, 69, 60, 72, 70, 62,  1,\n",
      "        73, 69, 62, 58, 76, 78, 75, 62,  1, 77, 72,  1, 59, 62,  1, 80, 66, 77,\n",
      "        65,  1, 82, 72, 78,  0,  0, 76, 72,  0,  0, 82, 72, 78, 75,  1, 80, 72,\n",
      "        75, 68,  1, 66, 76,  1, 65, 78, 64, 62,  1, 58, 71, 61,  1, 82, 72, 78,\n",
      "         1, 65, 58, 79, 62,  1, 73, 78, 59, 69, 66, 76, 65, 62, 61,  0,  0, 72,\n",
      "        79, 62, 75,  1, 16, 15, 15,  1, 59, 72, 72, 68, 76,  1, 72, 71,  1, 70,\n",
      "        58, 71, 82,  1, 61, 66, 63, 63, 62, 75, 62, 71, 77,  1, 77, 72, 73, 66,\n",
      "        60, 76,  0,  0, 76, 72,  1, 66, 77,  8, 76,  1, 79, 62, 75, 82,  1, 61,\n",
      "        66, 63, 63, 66, 60, 78, 69, 77,  1, 77, 72,  1, 68, 71, 72, 80,  1, 80,\n",
      "        65, 62, 75, 62,  1, 77, 72,  0,  0, 76, 77, 58, 75, 77,  1, 76, 72,  1,\n",
      "        69, 62, 77,  1, 70, 62,  1, 69, 62, 77,  1, 70, 62,  1, 77, 75, 82,  1,\n",
      "        77, 65, 66, 76,  0,  0, 72, 78, 75,  1, 73, 69, 58, 71, 62, 77,  1, 66,\n",
      "        76,  1, 59, 62, 66, 71, 64,  1, 75, 62, 76, 65, 58, 73, 62, 61,  1, 59,\n",
      "        82,  1, 72, 78, 75,  0,  0, 64, 69, 72, 59, 58, 69,  1, 65, 78, 70, 58,\n",
      "        71,  1, 60, 66, 79, 66, 69, 66, 83, 58, 77, 66, 72, 71,  1, 77, 65, 62,\n",
      "         0,  0, 60, 66, 79, 66, 69, 66, 83, 58, 77, 66, 72, 71,  1, 66, 76,  1,\n",
      "        76, 65, 58, 73, 62, 61,  1, 59, 82,  0,  0, 65, 78, 70, 58, 71,  1, 59,\n",
      "        62, 65, 58, 79, 66, 72, 75,  1, 58, 71, 61,  1, 65, 78, 70, 58, 71,  1,\n",
      "        59, 62, 65, 58, 79, 66, 72, 75,  1, 66, 76,  0,  0, 60, 72, 71, 61, 66,\n",
      "        77, 66, 72, 71, 62, 61,  1, 59, 82,  1, 72, 78, 75,  1, 71, 58, 77, 78,\n",
      "        75, 62,  1, 59, 82,  1, 72, 78, 75,  1, 60, 78, 69, 77, 78, 75, 62,  0,\n",
      "         0, 59, 82,  1, 69, 58, 71, 64, 78, 58, 64, 62,  1, 58, 71, 61,  1, 59,\n",
      "        82,  1, 58, 69, 69,  1, 76, 72, 75, 77, 76,  1, 72, 63,  0,  0, 76, 77,\n",
      "        75, 78, 60, 77, 78, 75, 62, 76,  1, 69, 66, 68, 62,  1, 77, 65, 62,  1,\n",
      "        70, 62, 61, 66, 58,  1, 77, 62, 60, 65, 71, 72, 69, 72, 64, 82,  1, 58,\n",
      "        71, 61,  0,  0, 73, 72, 69, 66, 77, 66, 60, 76,  0,  0, 58, 71, 61,  1,\n",
      "        76, 72,  1, 77, 72,  1, 78, 71, 61, 62, 75, 76, 77, 58, 71, 61,  1, 65,\n",
      "        72, 80,  1, 77, 65, 62,  1, 80, 72, 75, 69, 61,  1, 70, 72, 79, 62, 76,\n",
      "         0,  0, 80, 65, 58, 77,  1, 66, 76,  1, 66, 71,  1, 72, 78, 75,  1, 65,\n",
      "        58, 71, 61, 76,  1, 60, 72, 69, 69, 62, 60, 77, 66, 79, 62, 69, 82,  1,\n",
      "        58, 71, 61,  0,  0, 66, 71, 61, 66, 79, 66, 61, 78, 58, 69, 69, 82,  1,\n",
      "        80, 62,  1, 71, 62, 62, 61,  1, 77, 72,  1, 77, 58, 69, 68,  1, 58, 59,\n",
      "        72, 78, 77,  1, 77, 65, 62, 76, 62,  0,  0, 76, 77, 75, 78, 60, 77, 78,\n",
      "        75, 62, 76,  1, 65, 72, 80,  1, 77, 65, 62, 82,  1, 80, 72, 75, 68,  1,\n",
      "        80, 65, 72,  1, 60, 72, 71, 77, 75, 72, 69, 76,  0,  0, 77, 65, 62, 70,\n",
      "         1, 62, 77, 60,  0,  0, 66, 76,  1, 66, 77,  0,  0, 58,  1, 64, 72, 72,\n",
      "        61,  1, 66, 71, 77, 75, 72, 61, 78, 60, 77, 66, 72, 71,  1, 77, 72,  1,\n",
      "        82, 72, 78, 75,  1, 80, 72, 75, 68,  1, 77, 65, 58, 77,  0,  0, 60, 72,\n",
      "        79, 62, 75, 76,  1, 69, 58, 71, 64, 78, 58, 64, 62,  1, 64, 62, 72, 73,\n",
      "        72, 69, 66, 77, 66, 60, 76,  1, 58, 71, 61,  1, 76, 72, 60, 66, 62, 77,\n",
      "        82,  0,  0, 65, 72, 80,  1, 61, 72,  1, 82, 72, 78,  1, 69, 66, 68, 62,\n",
      "         1, 77, 72,  1, 69, 72, 72, 68,  1, 58, 77,  1, 77, 65, 66, 71, 64, 76,\n",
      "         1, 65, 72, 80,  1, 61, 72,  0,  0, 82, 72, 78,  1, 60, 72, 71, 71, 62,\n",
      "        60, 77,  1, 58, 69, 69,  1, 77, 65, 62,  1, 73, 58, 75, 77, 76,  1, 72,\n",
      "        63,  1, 82, 72, 78, 75,  1, 80, 72, 75, 68,  0,  0, 77, 72, 64, 62, 77,\n",
      "        65, 62, 75,  0,  0, 80, 62, 69, 69,  1, 63, 66, 75, 76, 77,  1, 72, 63,\n",
      "         1, 58, 69, 69,  1, 66,  0,  0, 61, 72, 71,  8, 77,  1, 76, 62, 62,  1,\n",
      "        58, 71, 82,  1, 75, 62, 58, 76, 72, 71,  1, 77, 72,  1, 77, 75, 82,  1,\n",
      "        77, 72,  0,  0, 78, 71, 66, 63, 82,  1, 77, 65, 62, 70,  0,  0, 76, 72,\n",
      "         1, 77, 65, 62, 75, 62,  1, 58, 75, 62])\n"
     ]
    }
   ],
   "source": [
    "# let's now encode the entire text dataset and store it into a torch.Tensor\n",
    "import torch # we use PyTorch: https://pytorch.org\n",
    "data = torch.tensor(encode(text), dtype=torch.long)\n",
    "print(data.shape, data.dtype)\n",
    "print(data[:1000]) # the 1000 characters we looked at earier will to the GPT look like this"
   ]
  },
  {
   "cell_type": "code",
   "execution_count": 55,
   "metadata": {},
   "outputs": [],
   "source": [
    "# Let's now split up the data into train and validation sets\n",
    "n = int(0.9*len(data)) # first 90% will be train, rest val\n",
    "train_data = data[:n]\n",
    "val_data = data[n:]"
   ]
  },
  {
   "cell_type": "code",
   "execution_count": 56,
   "metadata": {},
   "outputs": [
    {
     "data": {
      "text/plain": [
       "tensor([65, 62, 69, 69, 72,  1, 73, 75, 72])"
      ]
     },
     "execution_count": 56,
     "metadata": {},
     "output_type": "execute_result"
    }
   ],
   "source": [
    "block_size = 8\n",
    "train_data[:block_size+1]"
   ]
  },
  {
   "cell_type": "code",
   "execution_count": 57,
   "metadata": {},
   "outputs": [
    {
     "name": "stdout",
     "output_type": "stream",
     "text": [
      "when input is tensor([65]) the target: 62\n",
      "when input is tensor([65, 62]) the target: 69\n",
      "when input is tensor([65, 62, 69]) the target: 69\n",
      "when input is tensor([65, 62, 69, 69]) the target: 72\n",
      "when input is tensor([65, 62, 69, 69, 72]) the target: 1\n",
      "when input is tensor([65, 62, 69, 69, 72,  1]) the target: 73\n",
      "when input is tensor([65, 62, 69, 69, 72,  1, 73]) the target: 75\n",
      "when input is tensor([65, 62, 69, 69, 72,  1, 73, 75]) the target: 72\n"
     ]
    }
   ],
   "source": [
    "x = train_data[:block_size]\n",
    "y = train_data[1:block_size+1]\n",
    "for t in range(block_size):\n",
    "    context = x[:t+1]\n",
    "    target = y[t]\n",
    "    print(f\"when input is {context} the target: {target}\")"
   ]
  },
  {
   "cell_type": "code",
   "execution_count": 58,
   "metadata": {},
   "outputs": [
    {
     "name": "stdout",
     "output_type": "stream",
     "text": [
      "inputs:\n",
      "torch.Size([4, 8])\n",
      "tensor([[77, 75, 82,  1, 58, 71, 61,  1],\n",
      "        [64, 62,  1, 78, 71, 60, 62, 75],\n",
      "        [ 0,  0, 77, 62, 76, 77, 76,  1],\n",
      "        [63, 75, 72, 70,  1, 59, 75, 66]])\n",
      "targets:\n",
      "torch.Size([4, 8])\n",
      "tensor([[75, 82,  1, 58, 71, 61,  1, 62],\n",
      "        [62,  1, 78, 71, 60, 62, 75, 77],\n",
      "        [ 0, 77, 62, 76, 77, 76,  1, 63],\n",
      "        [75, 72, 70,  1, 59, 75, 66, 61]])\n",
      "----\n",
      "when input is [77] the target: 75\n",
      "when input is [77, 75] the target: 82\n",
      "when input is [77, 75, 82] the target: 1\n",
      "when input is [77, 75, 82, 1] the target: 58\n",
      "when input is [77, 75, 82, 1, 58] the target: 71\n",
      "when input is [77, 75, 82, 1, 58, 71] the target: 61\n",
      "when input is [77, 75, 82, 1, 58, 71, 61] the target: 1\n",
      "when input is [77, 75, 82, 1, 58, 71, 61, 1] the target: 62\n",
      "when input is [64] the target: 62\n",
      "when input is [64, 62] the target: 1\n",
      "when input is [64, 62, 1] the target: 78\n",
      "when input is [64, 62, 1, 78] the target: 71\n",
      "when input is [64, 62, 1, 78, 71] the target: 60\n",
      "when input is [64, 62, 1, 78, 71, 60] the target: 62\n",
      "when input is [64, 62, 1, 78, 71, 60, 62] the target: 75\n",
      "when input is [64, 62, 1, 78, 71, 60, 62, 75] the target: 77\n",
      "when input is [0] the target: 0\n",
      "when input is [0, 0] the target: 77\n",
      "when input is [0, 0, 77] the target: 62\n",
      "when input is [0, 0, 77, 62] the target: 76\n",
      "when input is [0, 0, 77, 62, 76] the target: 77\n",
      "when input is [0, 0, 77, 62, 76, 77] the target: 76\n",
      "when input is [0, 0, 77, 62, 76, 77, 76] the target: 1\n",
      "when input is [0, 0, 77, 62, 76, 77, 76, 1] the target: 63\n",
      "when input is [63] the target: 75\n",
      "when input is [63, 75] the target: 72\n",
      "when input is [63, 75, 72] the target: 70\n",
      "when input is [63, 75, 72, 70] the target: 1\n",
      "when input is [63, 75, 72, 70, 1] the target: 59\n",
      "when input is [63, 75, 72, 70, 1, 59] the target: 75\n",
      "when input is [63, 75, 72, 70, 1, 59, 75] the target: 66\n",
      "when input is [63, 75, 72, 70, 1, 59, 75, 66] the target: 61\n"
     ]
    }
   ],
   "source": [
    "torch.manual_seed(1337)\n",
    "batch_size = 4 # how many independent sequences will we process in parallel?\n",
    "block_size = 8 # what is the maximum context length for predictions?\n",
    "\n",
    "def get_batch(split):\n",
    "    # generate a small batch of data of inputs x and targets y\n",
    "    data = train_data if split == 'train' else val_data\n",
    "    ix = torch.randint(len(data) - block_size, (batch_size,))\n",
    "    x = torch.stack([data[i:i+block_size] for i in ix])\n",
    "    y = torch.stack([data[i+1:i+block_size+1] for i in ix])\n",
    "    return x, y\n",
    "\n",
    "xb, yb = get_batch('train')\n",
    "print('inputs:')\n",
    "print(xb.shape)\n",
    "print(xb)\n",
    "print('targets:')\n",
    "print(yb.shape)\n",
    "print(yb)\n",
    "\n",
    "print('----')\n",
    "\n",
    "for b in range(batch_size): # batch dimension\n",
    "    for t in range(block_size): # time dimension\n",
    "        context = xb[b, :t+1]\n",
    "        target = yb[b,t]\n",
    "        print(f\"when input is {context.tolist()} the target: {target}\")"
   ]
  },
  {
   "cell_type": "code",
   "execution_count": 59,
   "metadata": {},
   "outputs": [
    {
     "name": "stdout",
     "output_type": "stream",
     "text": [
      "tensor([[77, 75, 82,  1, 58, 71, 61,  1],\n",
      "        [64, 62,  1, 78, 71, 60, 62, 75],\n",
      "        [ 0,  0, 77, 62, 76, 77, 76,  1],\n",
      "        [63, 75, 72, 70,  1, 59, 75, 66]])\n"
     ]
    }
   ],
   "source": [
    "print(xb) # our input to the transformer"
   ]
  },
  {
   "cell_type": "code",
   "execution_count": 60,
   "metadata": {},
   "outputs": [
    {
     "name": "stdout",
     "output_type": "stream",
     "text": [
      "torch.Size([32, 107])\n",
      "tensor(4.7771, grad_fn=<NllLossBackward0>)\n"
     ]
    }
   ],
   "source": [
    "import torch\n",
    "import torch.nn as nn\n",
    "import torch.nn.functional as F\n",
    "torch.manual_seed(1337)\n",
    "\n",
    "class BigramLanguageModel(nn.Module):\n",
    "    \n",
    "    def __init__(self, vocab_size):\n",
    "        super().__init__()\n",
    "        # each token directly reads off the logits of the next token from a lookup table\n",
    "        self.token_embedding_table = nn.Embedding(vocab_size, vocab_size)\n",
    "        \n",
    "    def forward(self, idx, targets=None):\n",
    "        \n",
    "        # idx are both (B, T) tensors of intergers\n",
    "        # we want to look up the logits for the next token for each token in the input\n",
    "        logits = self.token_embedding_table(idx) # (B, T, C)\n",
    "        \n",
    "        if targets is None:\n",
    "            loss = None\n",
    "        else:\n",
    "            B, T, C = logits.shape\n",
    "            logits = logits.view(B*T, C) # (B*T, C)\n",
    "            targets = targets.view(-1) # (B*T,)\n",
    "            loss = F.cross_entropy(logits, targets)\n",
    "        \n",
    "        return logits, loss\n",
    "    \n",
    "    def generate(self, idx, max_new_tokens):\n",
    "        # idx is (B, T) array of indices in the current context\n",
    "        for _ in range(max_new_tokens):\n",
    "            # get the predictions for the next token\n",
    "            logits, loss = self.forward(idx)\n",
    "            # focus only on the last time step\n",
    "            logits = logits[:, -1, :] # (B, C)\n",
    "            # apply softmax to get probabilities\n",
    "            probs = F.softmax(logits, dim=-1) # (B, C)\n",
    "            # sample from the distribution or take the most likely\n",
    "            idx_next = torch.multinomial(probs, num_samples=1) # (B, 1)\n",
    "            # append sampled index to the running sequence\n",
    "            idx = torch.cat([idx, idx_next], dim=-1) # (B, T+1)\n",
    "            \n",
    "        return idx\n",
    "            \n",
    "        \n",
    "m = BigramLanguageModel(vocab_size)\n",
    "logits, loss = m(xb, yb)    \n",
    "print(logits.shape)\n",
    "print(loss)"
   ]
  },
  {
   "cell_type": "code",
   "execution_count": 61,
   "metadata": {},
   "outputs": [
    {
     "name": "stdout",
     "output_type": "stream",
     "text": [
      "\n",
      "ó!\"(xö—I$B’î'LOoyNx_eDY;a$%\n",
      "BFx4)PQ–,éàxwóJç'odwcYDe”èOAvB J-​Hó…lB68s1j’!(!éeDeH​TFüam_jEK>El>h'$”o\n"
     ]
    }
   ],
   "source": [
    "idx = torch.zeros((1,1), dtype=torch.long)\n",
    "print(decode(m.generate(idx, max_new_tokens=100)[0].tolist()))"
   ]
  },
  {
   "cell_type": "code",
   "execution_count": 62,
   "metadata": {},
   "outputs": [],
   "source": [
    "optimizer = torch.optim.AdamW(m.parameters(), lr=1e-3)"
   ]
  },
  {
   "cell_type": "code",
   "execution_count": 63,
   "metadata": {},
   "outputs": [
    {
     "name": "stdout",
     "output_type": "stream",
     "text": [
      "step 0 train loss: 5.113\n",
      "\n",
      "BElêRMZ[ZIèï\n",
      "1ïxt9c>f6XHzà&Qeí\n"
     ]
    },
    {
     "name": "stdout",
     "output_type": "stream",
     "text": [
      "step 10000 train loss: 2.371\n",
      "\n",
      "\n",
      "\n",
      "l ath\n",
      "sit Ty s t\n",
      "baryer w io\n",
      "step 20000 train loss: 2.492\n",
      "\n",
      "chomo mpr con p s to ingequs, \n",
      "step 30000 train loss: 2.348\n",
      "\n",
      "thinonoustestheautr bscre-cind\n",
      "step 40000 train loss: 2.571\n",
      "\n",
      "yo usereraimo t ikisinses t g \n",
      "loss :  2.5135092735290527\n",
      "\n",
      "est tha on hout t’êRYoco I\n",
      "atoator?\n",
      "sthe\n",
      "Mys m t y insh 19415 m wserianchatheve woree\n",
      "FORD:\n",
      "baniora \n"
     ]
    }
   ],
   "source": [
    "batch_size = 32\n",
    "for i in range(50000):\n",
    "    xb, yb = get_batch('train')\n",
    "    \n",
    "    # evaluate the loss on the training data\n",
    "    logits, loss = m(xb, yb)\n",
    "    optimizer.zero_grad(set_to_none=True)\n",
    "    loss.backward()\n",
    "    optimizer.step()  \n",
    "    \n",
    "    if i % 10000 == 0:\n",
    "        print(f\"step {i} train loss: {loss.item():.3f}\")\n",
    "        print(decode(m.generate(idx, max_new_tokens=30)[0].tolist()))\n",
    "\n",
    "print(\"loss : \", loss.item())\n",
    "  \n",
    "print(decode(m.generate(idx, max_new_tokens=100)[0].tolist()))"
   ]
  },
  {
   "cell_type": "code",
   "execution_count": null,
   "metadata": {},
   "outputs": [],
   "source": []
  }
 ],
 "metadata": {
  "kernelspec": {
   "display_name": "Python 3",
   "language": "python",
   "name": "python3"
  },
  "language_info": {
   "codemirror_mode": {
    "name": "ipython",
    "version": 3
   },
   "file_extension": ".py",
   "mimetype": "text/x-python",
   "name": "python",
   "nbconvert_exporter": "python",
   "pygments_lexer": "ipython3",
   "version": "3.11.2"
  },
  "orig_nbformat": 4
 },
 "nbformat": 4,
 "nbformat_minor": 2
}
